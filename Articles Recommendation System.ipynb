{
 "cells": [
  {
   "cell_type": "code",
   "execution_count": 25,
   "id": "23b3f2ef",
   "metadata": {},
   "outputs": [],
   "source": [
    "import pandas as pd\n",
    "import scipy.sparse as sparse\n",
    "import numpy as np\n",
    "import random\n",
    "import implicit\n",
    "from sklearn.preprocessing import MinMaxScaler\n",
    "from sklearn import metrics"
   ]
  },
  {
   "cell_type": "code",
   "execution_count": 26,
   "id": "2b0bb80c",
   "metadata": {},
   "outputs": [],
   "source": [
    "articles_df = pd.read_csv(\"shared_articles.csv\")\n",
    "interactions_df = pd.read_csv('users_interactions.csv')"
   ]
  },
  {
   "cell_type": "code",
   "execution_count": 27,
   "id": "5157bcd5",
   "metadata": {
    "scrolled": true
   },
   "outputs": [
    {
     "name": "stdout",
     "output_type": "stream",
     "text": [
      "<class 'pandas.core.frame.DataFrame'>\n",
      "RangeIndex: 3122 entries, 0 to 3121\n",
      "Data columns (total 13 columns):\n",
      " #   Column           Non-Null Count  Dtype \n",
      "---  ------           --------------  ----- \n",
      " 0   timestamp        3122 non-null   int64 \n",
      " 1   eventType        3122 non-null   object\n",
      " 2   contentId        3122 non-null   int64 \n",
      " 3   authorPersonId   3122 non-null   int64 \n",
      " 4   authorSessionId  3122 non-null   int64 \n",
      " 5   authorUserAgent  680 non-null    object\n",
      " 6   authorRegion     680 non-null    object\n",
      " 7   authorCountry    680 non-null    object\n",
      " 8   contentType      3122 non-null   object\n",
      " 9   url              3122 non-null   object\n",
      " 10  title            3122 non-null   object\n",
      " 11  text             3122 non-null   object\n",
      " 12  lang             3122 non-null   object\n",
      "dtypes: int64(4), object(9)\n",
      "memory usage: 317.2+ KB\n"
     ]
    }
   ],
   "source": [
    "articles_df.info()"
   ]
  },
  {
   "cell_type": "markdown",
   "id": "4065c3a1",
   "metadata": {},
   "source": [
    "let`s remove 3 columns with a missing values:"
   ]
  },
  {
   "cell_type": "code",
   "execution_count": 28,
   "id": "00cb409d",
   "metadata": {},
   "outputs": [],
   "source": [
    "articles_df.drop(['authorUserAgent','authorRegion','authorCountry'], axis=1, inplace=True)"
   ]
  },
  {
   "cell_type": "code",
   "execution_count": 29,
   "id": "3504a755",
   "metadata": {},
   "outputs": [
    {
     "data": {
      "text/html": [
       "<div>\n",
       "<style scoped>\n",
       "    .dataframe tbody tr th:only-of-type {\n",
       "        vertical-align: middle;\n",
       "    }\n",
       "\n",
       "    .dataframe tbody tr th {\n",
       "        vertical-align: top;\n",
       "    }\n",
       "\n",
       "    .dataframe thead th {\n",
       "        text-align: right;\n",
       "    }\n",
       "</style>\n",
       "<table border=\"1\" class=\"dataframe\">\n",
       "  <thead>\n",
       "    <tr style=\"text-align: right;\">\n",
       "      <th></th>\n",
       "      <th>timestamp</th>\n",
       "      <th>eventType</th>\n",
       "      <th>contentId</th>\n",
       "      <th>authorPersonId</th>\n",
       "      <th>authorSessionId</th>\n",
       "      <th>contentType</th>\n",
       "      <th>url</th>\n",
       "      <th>title</th>\n",
       "      <th>text</th>\n",
       "      <th>lang</th>\n",
       "    </tr>\n",
       "  </thead>\n",
       "  <tbody>\n",
       "    <tr>\n",
       "      <th>0</th>\n",
       "      <td>1459192779</td>\n",
       "      <td>CONTENT REMOVED</td>\n",
       "      <td>-6451309518266745024</td>\n",
       "      <td>4340306774493623681</td>\n",
       "      <td>8940341205206233829</td>\n",
       "      <td>HTML</td>\n",
       "      <td>http://www.nytimes.com/2016/03/28/business/dea...</td>\n",
       "      <td>Ethereum, a Virtual Currency, Enables Transact...</td>\n",
       "      <td>All of this work is still very early. The firs...</td>\n",
       "      <td>en</td>\n",
       "    </tr>\n",
       "    <tr>\n",
       "      <th>1</th>\n",
       "      <td>1459193988</td>\n",
       "      <td>CONTENT SHARED</td>\n",
       "      <td>-4110354420726924665</td>\n",
       "      <td>4340306774493623681</td>\n",
       "      <td>8940341205206233829</td>\n",
       "      <td>HTML</td>\n",
       "      <td>http://www.nytimes.com/2016/03/28/business/dea...</td>\n",
       "      <td>Ethereum, a Virtual Currency, Enables Transact...</td>\n",
       "      <td>All of this work is still very early. The firs...</td>\n",
       "      <td>en</td>\n",
       "    </tr>\n",
       "    <tr>\n",
       "      <th>2</th>\n",
       "      <td>1459194146</td>\n",
       "      <td>CONTENT SHARED</td>\n",
       "      <td>-7292285110016212249</td>\n",
       "      <td>4340306774493623681</td>\n",
       "      <td>8940341205206233829</td>\n",
       "      <td>HTML</td>\n",
       "      <td>http://cointelegraph.com/news/bitcoin-future-w...</td>\n",
       "      <td>Bitcoin Future: When GBPcoin of Branson Wins O...</td>\n",
       "      <td>The alarm clock wakes me at 8:00 with stream o...</td>\n",
       "      <td>en</td>\n",
       "    </tr>\n",
       "  </tbody>\n",
       "</table>\n",
       "</div>"
      ],
      "text/plain": [
       "    timestamp        eventType            contentId       authorPersonId  \\\n",
       "0  1459192779  CONTENT REMOVED -6451309518266745024  4340306774493623681   \n",
       "1  1459193988   CONTENT SHARED -4110354420726924665  4340306774493623681   \n",
       "2  1459194146   CONTENT SHARED -7292285110016212249  4340306774493623681   \n",
       "\n",
       "       authorSessionId contentType  \\\n",
       "0  8940341205206233829        HTML   \n",
       "1  8940341205206233829        HTML   \n",
       "2  8940341205206233829        HTML   \n",
       "\n",
       "                                                 url  \\\n",
       "0  http://www.nytimes.com/2016/03/28/business/dea...   \n",
       "1  http://www.nytimes.com/2016/03/28/business/dea...   \n",
       "2  http://cointelegraph.com/news/bitcoin-future-w...   \n",
       "\n",
       "                                               title  \\\n",
       "0  Ethereum, a Virtual Currency, Enables Transact...   \n",
       "1  Ethereum, a Virtual Currency, Enables Transact...   \n",
       "2  Bitcoin Future: When GBPcoin of Branson Wins O...   \n",
       "\n",
       "                                                text lang  \n",
       "0  All of this work is still very early. The firs...   en  \n",
       "1  All of this work is still very early. The firs...   en  \n",
       "2  The alarm clock wakes me at 8:00 with stream o...   en  "
      ]
     },
     "execution_count": 29,
     "metadata": {},
     "output_type": "execute_result"
    }
   ],
   "source": [
    "articles_df.head(3)"
   ]
  },
  {
   "cell_type": "code",
   "execution_count": 30,
   "id": "49b21944",
   "metadata": {},
   "outputs": [
    {
     "data": {
      "text/plain": [
       "eventType\n",
       "CONTENT SHARED     3047\n",
       "CONTENT REMOVED      75\n",
       "Name: count, dtype: int64"
      ]
     },
     "execution_count": 30,
     "metadata": {},
     "output_type": "execute_result"
    }
   ],
   "source": [
    "articles_df['eventType'].value_counts()"
   ]
  },
  {
   "cell_type": "markdown",
   "id": "1c9b931c",
   "metadata": {},
   "source": [
    "will keep shared content only and also drop columns 'eventType' since it become redundant"
   ]
  },
  {
   "cell_type": "code",
   "execution_count": 31,
   "id": "40842784",
   "metadata": {},
   "outputs": [],
   "source": [
    "articles_df = articles_df[articles_df['eventType'] == 'CONTENT SHARED']"
   ]
  },
  {
   "cell_type": "code",
   "execution_count": 32,
   "id": "e682fda4",
   "metadata": {},
   "outputs": [],
   "source": [
    "articles_df.drop('eventType', axis=1, inplace=True)"
   ]
  },
  {
   "cell_type": "code",
   "execution_count": 33,
   "id": "28703d65",
   "metadata": {},
   "outputs": [
    {
     "name": "stdout",
     "output_type": "stream",
     "text": [
      "<class 'pandas.core.frame.DataFrame'>\n",
      "Index: 3047 entries, 1 to 3121\n",
      "Data columns (total 9 columns):\n",
      " #   Column           Non-Null Count  Dtype \n",
      "---  ------           --------------  ----- \n",
      " 0   timestamp        3047 non-null   int64 \n",
      " 1   contentId        3047 non-null   int64 \n",
      " 2   authorPersonId   3047 non-null   int64 \n",
      " 3   authorSessionId  3047 non-null   int64 \n",
      " 4   contentType      3047 non-null   object\n",
      " 5   url              3047 non-null   object\n",
      " 6   title            3047 non-null   object\n",
      " 7   text             3047 non-null   object\n",
      " 8   lang             3047 non-null   object\n",
      "dtypes: int64(4), object(5)\n",
      "memory usage: 238.0+ KB\n"
     ]
    }
   ],
   "source": [
    "articles_df.info()"
   ]
  },
  {
   "cell_type": "markdown",
   "id": "224a27f7",
   "metadata": {},
   "source": [
    "let`s look at interactions DataFrame:"
   ]
  },
  {
   "cell_type": "code",
   "execution_count": 34,
   "id": "289780c7",
   "metadata": {
    "scrolled": true
   },
   "outputs": [
    {
     "name": "stdout",
     "output_type": "stream",
     "text": [
      "<class 'pandas.core.frame.DataFrame'>\n",
      "RangeIndex: 72312 entries, 0 to 72311\n",
      "Data columns (total 8 columns):\n",
      " #   Column       Non-Null Count  Dtype \n",
      "---  ------       --------------  ----- \n",
      " 0   timestamp    72312 non-null  int64 \n",
      " 1   eventType    72312 non-null  object\n",
      " 2   contentId    72312 non-null  int64 \n",
      " 3   personId     72312 non-null  int64 \n",
      " 4   sessionId    72312 non-null  int64 \n",
      " 5   userAgent    56918 non-null  object\n",
      " 6   userRegion   56907 non-null  object\n",
      " 7   userCountry  56918 non-null  object\n",
      "dtypes: int64(4), object(4)\n",
      "memory usage: 4.4+ MB\n"
     ]
    }
   ],
   "source": [
    "interactions_df.info()"
   ]
  },
  {
   "cell_type": "markdown",
   "id": "7c00e524",
   "metadata": {},
   "source": [
    "time to merge both dataset. will not include columns like 'userAgent','userRegion','userCountry' \n",
    "because of the NaN values.\n",
    "\n",
    "Doing merging on 'contentId' column"
   ]
  },
  {
   "cell_type": "code",
   "execution_count": 35,
   "id": "285cc67c",
   "metadata": {},
   "outputs": [],
   "source": [
    "df = pd.merge(interactions_df[['contentId','personId','eventType']], articles_df[['contentId','title']],\n",
    "             how = 'inner', on = 'contentId')"
   ]
  },
  {
   "cell_type": "code",
   "execution_count": 36,
   "id": "ab8a5888",
   "metadata": {},
   "outputs": [
    {
     "data": {
      "text/html": [
       "<div>\n",
       "<style scoped>\n",
       "    .dataframe tbody tr th:only-of-type {\n",
       "        vertical-align: middle;\n",
       "    }\n",
       "\n",
       "    .dataframe tbody tr th {\n",
       "        vertical-align: top;\n",
       "    }\n",
       "\n",
       "    .dataframe thead th {\n",
       "        text-align: right;\n",
       "    }\n",
       "</style>\n",
       "<table border=\"1\" class=\"dataframe\">\n",
       "  <thead>\n",
       "    <tr style=\"text-align: right;\">\n",
       "      <th></th>\n",
       "      <th>contentId</th>\n",
       "      <th>personId</th>\n",
       "      <th>eventType</th>\n",
       "      <th>title</th>\n",
       "    </tr>\n",
       "  </thead>\n",
       "  <tbody>\n",
       "    <tr>\n",
       "      <th>0</th>\n",
       "      <td>-3499919498720038879</td>\n",
       "      <td>-8845298781299428018</td>\n",
       "      <td>VIEW</td>\n",
       "      <td>Hiri wants to fix the workplace email problem</td>\n",
       "    </tr>\n",
       "    <tr>\n",
       "      <th>1</th>\n",
       "      <td>-3499919498720038879</td>\n",
       "      <td>-8845298781299428018</td>\n",
       "      <td>VIEW</td>\n",
       "      <td>Hiri wants to fix the workplace email problem</td>\n",
       "    </tr>\n",
       "    <tr>\n",
       "      <th>2</th>\n",
       "      <td>-3499919498720038879</td>\n",
       "      <td>-108842214936804958</td>\n",
       "      <td>VIEW</td>\n",
       "      <td>Hiri wants to fix the workplace email problem</td>\n",
       "    </tr>\n",
       "    <tr>\n",
       "      <th>3</th>\n",
       "      <td>-3499919498720038879</td>\n",
       "      <td>-1443636648652872475</td>\n",
       "      <td>VIEW</td>\n",
       "      <td>Hiri wants to fix the workplace email problem</td>\n",
       "    </tr>\n",
       "    <tr>\n",
       "      <th>4</th>\n",
       "      <td>-3499919498720038879</td>\n",
       "      <td>-1443636648652872475</td>\n",
       "      <td>VIEW</td>\n",
       "      <td>Hiri wants to fix the workplace email problem</td>\n",
       "    </tr>\n",
       "    <tr>\n",
       "      <th>...</th>\n",
       "      <td>...</td>\n",
       "      <td>...</td>\n",
       "      <td>...</td>\n",
       "      <td>...</td>\n",
       "    </tr>\n",
       "    <tr>\n",
       "      <th>72264</th>\n",
       "      <td>-7108012586837980940</td>\n",
       "      <td>-4028919343899978105</td>\n",
       "      <td>VIEW</td>\n",
       "      <td>The Ultimate Digital Clean-Up Checklist: Are Y...</td>\n",
       "    </tr>\n",
       "    <tr>\n",
       "      <th>72265</th>\n",
       "      <td>7526977287801930517</td>\n",
       "      <td>-3643155458357242906</td>\n",
       "      <td>VIEW</td>\n",
       "      <td>Renewing Medium's focus</td>\n",
       "    </tr>\n",
       "    <tr>\n",
       "      <th>72266</th>\n",
       "      <td>-282629989972409543</td>\n",
       "      <td>5660542693104786364</td>\n",
       "      <td>VIEW</td>\n",
       "      <td>Santander Brasil gera 21% do resultado da matr...</td>\n",
       "    </tr>\n",
       "    <tr>\n",
       "      <th>72267</th>\n",
       "      <td>-6468782714472551646</td>\n",
       "      <td>5660542693104786364</td>\n",
       "      <td>VIEW</td>\n",
       "      <td>Santander Brasil tem lucro gerencial de R$ 1,9...</td>\n",
       "    </tr>\n",
       "    <tr>\n",
       "      <th>72268</th>\n",
       "      <td>-9040419159428373932</td>\n",
       "      <td>-7496361692498935601</td>\n",
       "      <td>VIEW</td>\n",
       "      <td>Depois da Inteligência Artificial, vem aí a In...</td>\n",
       "    </tr>\n",
       "  </tbody>\n",
       "</table>\n",
       "<p>72269 rows × 4 columns</p>\n",
       "</div>"
      ],
      "text/plain": [
       "                 contentId             personId eventType  \\\n",
       "0     -3499919498720038879 -8845298781299428018      VIEW   \n",
       "1     -3499919498720038879 -8845298781299428018      VIEW   \n",
       "2     -3499919498720038879  -108842214936804958      VIEW   \n",
       "3     -3499919498720038879 -1443636648652872475      VIEW   \n",
       "4     -3499919498720038879 -1443636648652872475      VIEW   \n",
       "...                    ...                  ...       ...   \n",
       "72264 -7108012586837980940 -4028919343899978105      VIEW   \n",
       "72265  7526977287801930517 -3643155458357242906      VIEW   \n",
       "72266  -282629989972409543  5660542693104786364      VIEW   \n",
       "72267 -6468782714472551646  5660542693104786364      VIEW   \n",
       "72268 -9040419159428373932 -7496361692498935601      VIEW   \n",
       "\n",
       "                                                   title  \n",
       "0          Hiri wants to fix the workplace email problem  \n",
       "1          Hiri wants to fix the workplace email problem  \n",
       "2          Hiri wants to fix the workplace email problem  \n",
       "3          Hiri wants to fix the workplace email problem  \n",
       "4          Hiri wants to fix the workplace email problem  \n",
       "...                                                  ...  \n",
       "72264  The Ultimate Digital Clean-Up Checklist: Are Y...  \n",
       "72265                            Renewing Medium's focus  \n",
       "72266  Santander Brasil gera 21% do resultado da matr...  \n",
       "72267  Santander Brasil tem lucro gerencial de R$ 1,9...  \n",
       "72268  Depois da Inteligência Artificial, vem aí a In...  \n",
       "\n",
       "[72269 rows x 4 columns]"
      ]
     },
     "execution_count": 36,
     "metadata": {},
     "output_type": "execute_result"
    }
   ],
   "source": [
    "df"
   ]
  },
  {
   "cell_type": "code",
   "execution_count": 37,
   "id": "01a67be2",
   "metadata": {},
   "outputs": [
    {
     "name": "stdout",
     "output_type": "stream",
     "text": [
      "<class 'pandas.core.frame.DataFrame'>\n",
      "RangeIndex: 72269 entries, 0 to 72268\n",
      "Data columns (total 4 columns):\n",
      " #   Column     Non-Null Count  Dtype \n",
      "---  ------     --------------  ----- \n",
      " 0   contentId  72269 non-null  int64 \n",
      " 1   personId   72269 non-null  int64 \n",
      " 2   eventType  72269 non-null  object\n",
      " 3   title      72269 non-null  object\n",
      "dtypes: int64(2), object(2)\n",
      "memory usage: 2.2+ MB\n"
     ]
    }
   ],
   "source": [
    "df.info()"
   ]
  },
  {
   "cell_type": "markdown",
   "id": "976e8d41",
   "metadata": {},
   "source": [
    "let`s see what type of users interactions with articles we got:"
   ]
  },
  {
   "cell_type": "code",
   "execution_count": 38,
   "id": "4bef233d",
   "metadata": {},
   "outputs": [
    {
     "data": {
      "text/plain": [
       "eventType\n",
       "VIEW               61043\n",
       "LIKE                5745\n",
       "BOOKMARK            2463\n",
       "COMMENT CREATED     1611\n",
       "FOLLOW              1407\n",
       "Name: count, dtype: int64"
      ]
     },
     "execution_count": 38,
     "metadata": {},
     "output_type": "execute_result"
    }
   ],
   "source": [
    "df['eventType'].value_counts()"
   ]
  },
  {
   "cell_type": "markdown",
   "id": "4e3ddc56",
   "metadata": {},
   "source": [
    "let`s give this interactions numeric points. where View only is 1.0 point, and following is 5.0"
   ]
  },
  {
   "cell_type": "code",
   "execution_count": 39,
   "id": "2cc994dd",
   "metadata": {},
   "outputs": [],
   "source": [
    "event_type_strength = {\n",
    "    'VIEW': 1.0,\n",
    "    'LIKE':2.0,\n",
    "    'BOOKMARK':3.0,\n",
    "    'COMMENT CREATED': 4.0,\n",
    "    'FOLLOW':5.0,\n",
    "}"
   ]
  },
  {
   "cell_type": "code",
   "execution_count": 40,
   "id": "3262e9f0",
   "metadata": {},
   "outputs": [],
   "source": [
    "df['eventStrength'] = df['eventType'].apply(lambda x: event_type_strength[x])"
   ]
  },
  {
   "cell_type": "markdown",
   "id": "0a22fb08",
   "metadata": {},
   "source": [
    "let`s look what we have:"
   ]
  },
  {
   "cell_type": "code",
   "execution_count": 41,
   "id": "d06b5495",
   "metadata": {},
   "outputs": [
    {
     "data": {
      "text/html": [
       "<div>\n",
       "<style scoped>\n",
       "    .dataframe tbody tr th:only-of-type {\n",
       "        vertical-align: middle;\n",
       "    }\n",
       "\n",
       "    .dataframe tbody tr th {\n",
       "        vertical-align: top;\n",
       "    }\n",
       "\n",
       "    .dataframe thead th {\n",
       "        text-align: right;\n",
       "    }\n",
       "</style>\n",
       "<table border=\"1\" class=\"dataframe\">\n",
       "  <thead>\n",
       "    <tr style=\"text-align: right;\">\n",
       "      <th></th>\n",
       "      <th>contentId</th>\n",
       "      <th>personId</th>\n",
       "      <th>eventType</th>\n",
       "      <th>title</th>\n",
       "      <th>eventStrength</th>\n",
       "    </tr>\n",
       "  </thead>\n",
       "  <tbody>\n",
       "    <tr>\n",
       "      <th>0</th>\n",
       "      <td>-3499919498720038879</td>\n",
       "      <td>-8845298781299428018</td>\n",
       "      <td>VIEW</td>\n",
       "      <td>Hiri wants to fix the workplace email problem</td>\n",
       "      <td>1.0</td>\n",
       "    </tr>\n",
       "    <tr>\n",
       "      <th>1</th>\n",
       "      <td>-3499919498720038879</td>\n",
       "      <td>-8845298781299428018</td>\n",
       "      <td>VIEW</td>\n",
       "      <td>Hiri wants to fix the workplace email problem</td>\n",
       "      <td>1.0</td>\n",
       "    </tr>\n",
       "    <tr>\n",
       "      <th>2</th>\n",
       "      <td>-3499919498720038879</td>\n",
       "      <td>-108842214936804958</td>\n",
       "      <td>VIEW</td>\n",
       "      <td>Hiri wants to fix the workplace email problem</td>\n",
       "      <td>1.0</td>\n",
       "    </tr>\n",
       "    <tr>\n",
       "      <th>3</th>\n",
       "      <td>-3499919498720038879</td>\n",
       "      <td>-1443636648652872475</td>\n",
       "      <td>VIEW</td>\n",
       "      <td>Hiri wants to fix the workplace email problem</td>\n",
       "      <td>1.0</td>\n",
       "    </tr>\n",
       "    <tr>\n",
       "      <th>4</th>\n",
       "      <td>-3499919498720038879</td>\n",
       "      <td>-1443636648652872475</td>\n",
       "      <td>VIEW</td>\n",
       "      <td>Hiri wants to fix the workplace email problem</td>\n",
       "      <td>1.0</td>\n",
       "    </tr>\n",
       "  </tbody>\n",
       "</table>\n",
       "</div>"
      ],
      "text/plain": [
       "             contentId             personId eventType  \\\n",
       "0 -3499919498720038879 -8845298781299428018      VIEW   \n",
       "1 -3499919498720038879 -8845298781299428018      VIEW   \n",
       "2 -3499919498720038879  -108842214936804958      VIEW   \n",
       "3 -3499919498720038879 -1443636648652872475      VIEW   \n",
       "4 -3499919498720038879 -1443636648652872475      VIEW   \n",
       "\n",
       "                                           title  eventStrength  \n",
       "0  Hiri wants to fix the workplace email problem            1.0  \n",
       "1  Hiri wants to fix the workplace email problem            1.0  \n",
       "2  Hiri wants to fix the workplace email problem            1.0  \n",
       "3  Hiri wants to fix the workplace email problem            1.0  \n",
       "4  Hiri wants to fix the workplace email problem            1.0  "
      ]
     },
     "execution_count": 41,
     "metadata": {},
     "output_type": "execute_result"
    }
   ],
   "source": [
    "df.head(5)"
   ]
  },
  {
   "cell_type": "markdown",
   "id": "878b6625",
   "metadata": {},
   "source": [
    "at first two raws we could actually see duplicates. We need to check if there is another duplicates and if so we need to remove them"
   ]
  },
  {
   "cell_type": "code",
   "execution_count": 42,
   "id": "93e43182",
   "metadata": {},
   "outputs": [
    {
     "name": "stdout",
     "output_type": "stream",
     "text": [
      "<class 'pandas.core.frame.DataFrame'>\n",
      "RangeIndex: 72269 entries, 0 to 72268\n",
      "Data columns (total 5 columns):\n",
      " #   Column         Non-Null Count  Dtype  \n",
      "---  ------         --------------  -----  \n",
      " 0   contentId      72269 non-null  int64  \n",
      " 1   personId       72269 non-null  int64  \n",
      " 2   eventType      72269 non-null  object \n",
      " 3   title          72269 non-null  object \n",
      " 4   eventStrength  72269 non-null  float64\n",
      "dtypes: float64(1), int64(2), object(2)\n",
      "memory usage: 2.8+ MB\n"
     ]
    }
   ],
   "source": [
    "df.info()"
   ]
  },
  {
   "cell_type": "code",
   "execution_count": 43,
   "id": "8204be75",
   "metadata": {},
   "outputs": [
    {
     "name": "stdout",
     "output_type": "stream",
     "text": [
      "<class 'pandas.core.frame.DataFrame'>\n",
      "Index: 50910 entries, 0 to 72268\n",
      "Data columns (total 5 columns):\n",
      " #   Column         Non-Null Count  Dtype  \n",
      "---  ------         --------------  -----  \n",
      " 0   contentId      50910 non-null  int64  \n",
      " 1   personId       50910 non-null  int64  \n",
      " 2   eventType      50910 non-null  object \n",
      " 3   title          50910 non-null  object \n",
      " 4   eventStrength  50910 non-null  float64\n",
      "dtypes: float64(1), int64(2), object(2)\n",
      "memory usage: 2.3+ MB\n"
     ]
    }
   ],
   "source": [
    "df = df.drop_duplicates()\n",
    "df.info()"
   ]
  },
  {
   "cell_type": "code",
   "execution_count": 44,
   "id": "e5bdf99a",
   "metadata": {},
   "outputs": [],
   "source": [
    "grouped_df = df.groupby(['personId','contentId','title']).sum().reset_index()"
   ]
  },
  {
   "cell_type": "markdown",
   "id": "6990a24b",
   "metadata": {},
   "source": [
    "Now let`s see and sum up all interactions in groups for one person id, one content and title:"
   ]
  },
  {
   "cell_type": "code",
   "execution_count": 45,
   "id": "1b4c0c13",
   "metadata": {},
   "outputs": [
    {
     "data": {
      "text/html": [
       "<div>\n",
       "<style scoped>\n",
       "    .dataframe tbody tr th:only-of-type {\n",
       "        vertical-align: middle;\n",
       "    }\n",
       "\n",
       "    .dataframe tbody tr th {\n",
       "        vertical-align: top;\n",
       "    }\n",
       "\n",
       "    .dataframe thead th {\n",
       "        text-align: right;\n",
       "    }\n",
       "</style>\n",
       "<table border=\"1\" class=\"dataframe\">\n",
       "  <thead>\n",
       "    <tr style=\"text-align: right;\">\n",
       "      <th></th>\n",
       "      <th>personId</th>\n",
       "      <th>contentId</th>\n",
       "      <th>title</th>\n",
       "      <th>eventType</th>\n",
       "      <th>eventStrength</th>\n",
       "    </tr>\n",
       "  </thead>\n",
       "  <tbody>\n",
       "    <tr>\n",
       "      <th>2945</th>\n",
       "      <td>-8051903121006324833</td>\n",
       "      <td>-692972306229904743</td>\n",
       "      <td>Blockchain won't kill banks: Bitcoin pioneer</td>\n",
       "      <td>VIEW</td>\n",
       "      <td>1.0</td>\n",
       "    </tr>\n",
       "    <tr>\n",
       "      <th>7558</th>\n",
       "      <td>-5444946123447491034</td>\n",
       "      <td>5843362068320522769</td>\n",
       "      <td>ClienteSA - Gente - Empatia e tecnologia</td>\n",
       "      <td>VIEW</td>\n",
       "      <td>1.0</td>\n",
       "    </tr>\n",
       "    <tr>\n",
       "      <th>23262</th>\n",
       "      <td>1120069409160402054</td>\n",
       "      <td>5439554346835640135</td>\n",
       "      <td>Consórcio: Venda de novas cotas cai 13,5% no 1...</td>\n",
       "      <td>VIEW</td>\n",
       "      <td>1.0</td>\n",
       "    </tr>\n",
       "    <tr>\n",
       "      <th>12766</th>\n",
       "      <td>-2979537012405607453</td>\n",
       "      <td>7734121175534200554</td>\n",
       "      <td>\"Consultorias promovem a desvalorização do nos...</td>\n",
       "      <td>VIEW</td>\n",
       "      <td>1.0</td>\n",
       "    </tr>\n",
       "    <tr>\n",
       "      <th>4481</th>\n",
       "      <td>-7240735065448254654</td>\n",
       "      <td>-377975173223377441</td>\n",
       "      <td>DARPA Goes \"Meta\" with Machine Learning for Ma...</td>\n",
       "      <td>VIEW</td>\n",
       "      <td>1.0</td>\n",
       "    </tr>\n",
       "  </tbody>\n",
       "</table>\n",
       "</div>"
      ],
      "text/plain": [
       "                  personId            contentId  \\\n",
       "2945  -8051903121006324833  -692972306229904743   \n",
       "7558  -5444946123447491034  5843362068320522769   \n",
       "23262  1120069409160402054  5439554346835640135   \n",
       "12766 -2979537012405607453  7734121175534200554   \n",
       "4481  -7240735065448254654  -377975173223377441   \n",
       "\n",
       "                                                   title eventType  \\\n",
       "2945        Blockchain won't kill banks: Bitcoin pioneer      VIEW   \n",
       "7558            ClienteSA - Gente - Empatia e tecnologia      VIEW   \n",
       "23262  Consórcio: Venda de novas cotas cai 13,5% no 1...      VIEW   \n",
       "12766  \"Consultorias promovem a desvalorização do nos...      VIEW   \n",
       "4481   DARPA Goes \"Meta\" with Machine Learning for Ma...      VIEW   \n",
       "\n",
       "       eventStrength  \n",
       "2945             1.0  \n",
       "7558             1.0  \n",
       "23262            1.0  \n",
       "12766            1.0  \n",
       "4481             1.0  "
      ]
     },
     "execution_count": 45,
     "metadata": {},
     "output_type": "execute_result"
    }
   ],
   "source": [
    "grouped_df.sample(5)"
   ]
  },
  {
   "cell_type": "code",
   "execution_count": 46,
   "id": "59daeb27",
   "metadata": {},
   "outputs": [
    {
     "data": {
      "text/plain": [
       "personId           int64\n",
       "contentId          int64\n",
       "title             object\n",
       "eventType         object\n",
       "eventStrength    float64\n",
       "dtype: object"
      ]
     },
     "execution_count": 46,
     "metadata": {},
     "output_type": "execute_result"
    }
   ],
   "source": [
    "grouped_df.dtypes"
   ]
  },
  {
   "cell_type": "markdown",
   "id": "6e91465e",
   "metadata": {},
   "source": [
    "let`s convert types into categories:"
   ]
  },
  {
   "cell_type": "code",
   "execution_count": 47,
   "id": "c6047402",
   "metadata": {},
   "outputs": [],
   "source": [
    "grouped_df['title'] = grouped_df['title'].astype('category')\n",
    "grouped_df['personId'] = grouped_df['personId'].astype('category')\n",
    "grouped_df['contentId'] = grouped_df['contentId'].astype('category')\n",
    "grouped_df['person_id'] = grouped_df['personId'].cat.codes\n",
    "grouped_df['content_id'] = grouped_df['contentId'].cat.codes"
   ]
  },
  {
   "cell_type": "code",
   "execution_count": 48,
   "id": "6ec0fdf9",
   "metadata": {},
   "outputs": [
    {
     "data": {
      "text/plain": [
       "personId         category\n",
       "contentId        category\n",
       "title            category\n",
       "eventType          object\n",
       "eventStrength     float64\n",
       "person_id           int16\n",
       "content_id          int16\n",
       "dtype: object"
      ]
     },
     "execution_count": 48,
     "metadata": {},
     "output_type": "execute_result"
    }
   ],
   "source": [
    "grouped_df.dtypes"
   ]
  },
  {
   "cell_type": "code",
   "execution_count": 49,
   "id": "0cf48c0c",
   "metadata": {},
   "outputs": [
    {
     "data": {
      "text/html": [
       "<div>\n",
       "<style scoped>\n",
       "    .dataframe tbody tr th:only-of-type {\n",
       "        vertical-align: middle;\n",
       "    }\n",
       "\n",
       "    .dataframe tbody tr th {\n",
       "        vertical-align: top;\n",
       "    }\n",
       "\n",
       "    .dataframe thead th {\n",
       "        text-align: right;\n",
       "    }\n",
       "</style>\n",
       "<table border=\"1\" class=\"dataframe\">\n",
       "  <thead>\n",
       "    <tr style=\"text-align: right;\">\n",
       "      <th></th>\n",
       "      <th>personId</th>\n",
       "      <th>contentId</th>\n",
       "      <th>title</th>\n",
       "      <th>eventType</th>\n",
       "      <th>eventStrength</th>\n",
       "      <th>person_id</th>\n",
       "      <th>content_id</th>\n",
       "    </tr>\n",
       "  </thead>\n",
       "  <tbody>\n",
       "    <tr>\n",
       "      <th>0</th>\n",
       "      <td>-9223121837663643404</td>\n",
       "      <td>-8949113594875411859</td>\n",
       "      <td>No Brasil, '25% dos celulares ainda são 'Burro...</td>\n",
       "      <td>VIEW</td>\n",
       "      <td>1.0</td>\n",
       "      <td>0</td>\n",
       "      <td>65</td>\n",
       "    </tr>\n",
       "    <tr>\n",
       "      <th>1</th>\n",
       "      <td>-9223121837663643404</td>\n",
       "      <td>-8377626164558006982</td>\n",
       "      <td>Bad Writing Is Destroying Your Company's Produ...</td>\n",
       "      <td>VIEW</td>\n",
       "      <td>1.0</td>\n",
       "      <td>0</td>\n",
       "      <td>159</td>\n",
       "    </tr>\n",
       "    <tr>\n",
       "      <th>2</th>\n",
       "      <td>-9223121837663643404</td>\n",
       "      <td>-8208801367848627943</td>\n",
       "      <td>Ray Kurzweil: The world isn't getting worse - ...</td>\n",
       "      <td>VIEW</td>\n",
       "      <td>1.0</td>\n",
       "      <td>0</td>\n",
       "      <td>187</td>\n",
       "    </tr>\n",
       "    <tr>\n",
       "      <th>3</th>\n",
       "      <td>-9223121837663643404</td>\n",
       "      <td>-8187220755213888616</td>\n",
       "      <td>Organizing for digital acceleration: Making a ...</td>\n",
       "      <td>VIEW</td>\n",
       "      <td>1.0</td>\n",
       "      <td>0</td>\n",
       "      <td>195</td>\n",
       "    </tr>\n",
       "    <tr>\n",
       "      <th>4</th>\n",
       "      <td>-9223121837663643404</td>\n",
       "      <td>-7423191370472335463</td>\n",
       "      <td>Espresso Intents: não é magia, é tecnologia! -...</td>\n",
       "      <td>VIEW</td>\n",
       "      <td>1.0</td>\n",
       "      <td>0</td>\n",
       "      <td>313</td>\n",
       "    </tr>\n",
       "  </tbody>\n",
       "</table>\n",
       "</div>"
      ],
      "text/plain": [
       "              personId            contentId  \\\n",
       "0 -9223121837663643404 -8949113594875411859   \n",
       "1 -9223121837663643404 -8377626164558006982   \n",
       "2 -9223121837663643404 -8208801367848627943   \n",
       "3 -9223121837663643404 -8187220755213888616   \n",
       "4 -9223121837663643404 -7423191370472335463   \n",
       "\n",
       "                                               title eventType  eventStrength  \\\n",
       "0  No Brasil, '25% dos celulares ainda são 'Burro...      VIEW            1.0   \n",
       "1  Bad Writing Is Destroying Your Company's Produ...      VIEW            1.0   \n",
       "2  Ray Kurzweil: The world isn't getting worse - ...      VIEW            1.0   \n",
       "3  Organizing for digital acceleration: Making a ...      VIEW            1.0   \n",
       "4  Espresso Intents: não é magia, é tecnologia! -...      VIEW            1.0   \n",
       "\n",
       "   person_id  content_id  \n",
       "0          0          65  \n",
       "1          0         159  \n",
       "2          0         187  \n",
       "3          0         195  \n",
       "4          0         313  "
      ]
     },
     "execution_count": 49,
     "metadata": {},
     "output_type": "execute_result"
    }
   ],
   "source": [
    "grouped_df.head(5)"
   ]
  },
  {
   "cell_type": "markdown",
   "id": "7e02b2e3",
   "metadata": {},
   "source": [
    "for further model training let`s create sparse matrices from grouped df as follows:"
   ]
  },
  {
   "cell_type": "code",
   "execution_count": 50,
   "id": "b062c6c7",
   "metadata": {},
   "outputs": [
    {
     "data": {
      "text/plain": [
       "2979"
      ]
     },
     "execution_count": 50,
     "metadata": {},
     "output_type": "execute_result"
    }
   ],
   "source": [
    "len(grouped_df['content_id'].unique())"
   ]
  },
  {
   "cell_type": "code",
   "execution_count": 51,
   "id": "fe736869",
   "metadata": {},
   "outputs": [
    {
     "data": {
      "text/plain": [
       "1895"
      ]
     },
     "execution_count": 51,
     "metadata": {},
     "output_type": "execute_result"
    }
   ],
   "source": [
    "len(grouped_df['person_id'].unique())"
   ]
  },
  {
   "cell_type": "code",
   "execution_count": 52,
   "id": "2896b21c",
   "metadata": {},
   "outputs": [
    {
     "name": "stdout",
     "output_type": "stream",
     "text": [
      "(2979, 1895)\n",
      "(1895, 2979)\n"
     ]
    }
   ],
   "source": [
    "sparse_content_person = sparse.csr_matrix((grouped_df['eventStrength'].astype(float),\n",
    "                                          (grouped_df['content_id'], grouped_df['person_id'])))\n",
    "sparse_person_content = sparse.csr_matrix((grouped_df['eventStrength'].astype(float),\n",
    "                                          (grouped_df['person_id'], grouped_df['content_id'])))\n",
    "print(sparse_content_person.shape)\n",
    "print(sparse_person_content.shape)"
   ]
  },
  {
   "cell_type": "code",
   "execution_count": 53,
   "id": "9c1839d3",
   "metadata": {},
   "outputs": [
    {
     "name": "stderr",
     "output_type": "stream",
     "text": [
      "C:\\ProgramData\\Anaconda3\\lib\\site-packages\\implicit\\cpu\\als.py:95: RuntimeWarning: Intel MKL BLAS is configured to use 4 threads. It is highly recommended to disable its internal threadpool by setting the environment variable 'MKL_NUM_THREADS=1' or by callng 'threadpoolctl.threadpool_limits(1, \"blas\")'. Having MKL use a threadpool can lead to severe performance issues\n",
      "  check_blas_config()\n"
     ]
    }
   ],
   "source": [
    "model = implicit.als.AlternatingLeastSquares(factors=20, regularization=0.1, iterations=50)"
   ]
  },
  {
   "cell_type": "code",
   "execution_count": 54,
   "id": "704d7d36",
   "metadata": {},
   "outputs": [],
   "source": [
    "# scaling the data\n",
    "alpha = 15\n",
    "data = (sparse_person_content * alpha).astype('double')"
   ]
  },
  {
   "cell_type": "code",
   "execution_count": 55,
   "id": "8f6d050c",
   "metadata": {},
   "outputs": [
    {
     "data": {
      "application/vnd.jupyter.widget-view+json": {
       "model_id": "249e3bca7a7e4e4788cc72686f8ded8e",
       "version_major": 2,
       "version_minor": 0
      },
      "text/plain": [
       "  0%|          | 0/50 [00:00<?, ?it/s]"
      ]
     },
     "metadata": {},
     "output_type": "display_data"
    }
   ],
   "source": [
    "# Fit the model\n",
    "model.fit(data)"
   ]
  },
  {
   "cell_type": "markdown",
   "id": "f4faf04c",
   "metadata": {},
   "source": [
    "let`s try to find 10 similar articles to content with id 544:"
   ]
  },
  {
   "cell_type": "code",
   "execution_count": 56,
   "id": "8cec86fd",
   "metadata": {},
   "outputs": [],
   "source": [
    "content_id = 544\n",
    "n_similar = 10\n",
    "\n",
    "# These factors represent the learned user preferences\n",
    "person_vecs = model.user_factors\n",
    "# These factors represent the learned item characteristics\n",
    "content_vecs = model.item_factors\n",
    "# This calculates the Euclidean norm (or length) of each item's vector in the latent space. \n",
    "# These norms are used to normalize the similarity scores\n",
    "content_norms = np.sqrt((content_vecs * content_vecs).sum(axis=1))\n",
    "# similarity scores between the target content item and all other items\n",
    "scores = content_vecs.dot(content_vecs[content_id]) / content_norms\n",
    "# Finding Top Similar Items\n",
    "top_idx = np.argpartition(scores, -n_similar)[-n_similar:]\n",
    "similar = sorted(zip(top_idx, scores[top_idx] / content_norms[content_id]), key=lambda x: -x[1])"
   ]
  },
  {
   "cell_type": "markdown",
   "id": "b9853b0a",
   "metadata": {},
   "source": [
    "let`s print the similar articles to id=544"
   ]
  },
  {
   "cell_type": "code",
   "execution_count": 57,
   "id": "6f61d053",
   "metadata": {},
   "outputs": [
    {
     "name": "stdout",
     "output_type": "stream",
     "text": [
      "Incrível, Skype se lembrou que o Linux existe!\n",
      "Firebase Test Lab for Android\n",
      "Automate Docker with the Remote API and Ruby\n",
      "Windows 10 Anniversary SDK is bringing exciting opportunities to developers\n",
      "Código Google: Introdução da próxima geração do Google Tag Manager e do Tag Manager 360 para Mobile Apps\n",
      "New JavaScript library brings Java to browsers without applets\n",
      "Java Tools and Technologies Landscape Report 2016 | zeroturnaround.com\n",
      "Novidades do CDI 2.0\n",
      "The Best Linux Distros of 2016\n",
      "Dries Buytaert: Advancing Drupal's web services\n"
     ]
    }
   ],
   "source": [
    "for content in similar:\n",
    "    idx, score = content\n",
    "    print(grouped_df.title.loc[grouped_df.content_id == idx].iloc[0])"
   ]
  },
  {
   "cell_type": "code",
   "execution_count": 59,
   "id": "e6627577",
   "metadata": {},
   "outputs": [],
   "source": [
    "def recommend(person_id, sparse_person_content, person_vecs, content_vecs, num_contents=10):\n",
    "#     get the interactions scores fromm the sparse person content matrix\n",
    "    person_interactions = sparse_person_content[person_id,:].toarray()\n",
    "#     Add 1 to everything, so that articles with no interaction yet become equal to 1\n",
    "    person_interactions = person_interactions.reshape(-1) + 1\n",
    "#     make already interacted articles equel zero\n",
    "    person_interactions[person_interactions > 1] = 0\n",
    "#     Get dot product of person vector and all content vectors\n",
    "    rec_vector = person_vecs[person_id,:].dot(content_vecs.T).toarray()\n",
    "    \n",
    "#     Scale this recommendatiion vector between 0 and 1\n",
    "    min_max = MinMaxScaler()\n",
    "    rec_vector_scaled = min_max.fit_transform(rec_vector.reshape(-1, 1))[:,0]                                                     \n",
    "    # Content already interacted have their recommendation multiplied by zero\n",
    "    recommend_vector = person_interactions * rec_vector_scaled\n",
    "    # Sort the indices of the content into order of best recommendations\n",
    "    content_idx = np.argsort(recommend_vector)[::-1][:num_contents]\n",
    "    \n",
    "    # Start empty list to store titles and scores\n",
    "    titles = []\n",
    "    scores = []\n",
    "    \n",
    "    for idx in content_idx:\n",
    "        # Append titles and scores to the list\n",
    "        titles.append(grouped_df.title.loc[grouped_df.content_id == idx].iloc[0])\n",
    "        scores.append(recommend_vector[idx])\n",
    "    \n",
    "    recommendations = pd.DataFrame({'title':titles, 'score': scores})\n",
    "    \n",
    "    return recommendations    "
   ]
  },
  {
   "cell_type": "code",
   "execution_count": 60,
   "id": "37002440",
   "metadata": {},
   "outputs": [
    {
     "name": "stdout",
     "output_type": "stream",
     "text": [
      "(1895, 20)\n"
     ]
    }
   ],
   "source": [
    "# get the trained person and content vectors. We convert them to csr matrices\n",
    "person_vecs = sparse.csr_matrix(model.user_factors)\n",
    "print(person_vecs.shape)"
   ]
  },
  {
   "cell_type": "code",
   "execution_count": 61,
   "id": "7f3847d4",
   "metadata": {},
   "outputs": [
    {
     "name": "stdout",
     "output_type": "stream",
     "text": [
      "(2979, 20)\n"
     ]
    }
   ],
   "source": [
    "content_vecs = sparse.csr_matrix(model.item_factors)\n",
    "print(content_vecs.shape)"
   ]
  },
  {
   "cell_type": "code",
   "execution_count": 62,
   "id": "55c315fb",
   "metadata": {},
   "outputs": [
    {
     "name": "stdout",
     "output_type": "stream",
     "text": [
      "                                               title     score\n",
      "0  NodeMCU (ESP8266) o módulo que desbanca o Ardu...  1.000000\n",
      "1  Governo define cronograma para plano nacional ...  0.939335\n",
      "2  Par de alianças impede que seu parceiro assist...  0.933121\n",
      "3  Pinterest's Real-World Pins Let In-Store Shopp...  0.930370\n",
      "4  Google anuncia Android Things, plataforma para...  0.902849\n",
      "5  Cannes Lions 2016: Tecido tecnológico do Googl...  0.885714\n",
      "6  Lentes de contato inteligentes serão o wearabl...  0.876232\n",
      "7  Dez habilidades profissionais mais valorizadas...  0.856778\n",
      "8  This Battery-Free Computer Sucks Power Out Of ...  0.845792\n",
      "9                         How to Get a Job at Google  0.844930\n"
     ]
    }
   ],
   "source": [
    "# Create recommendations for person with id 76\n",
    "\n",
    "person_id = 76\n",
    "\n",
    "recommendations = recommend(person_id, sparse_person_content, person_vecs, content_vecs)\n",
    "print(recommendations)"
   ]
  },
  {
   "cell_type": "code",
   "execution_count": 63,
   "id": "5dfef901",
   "metadata": {},
   "outputs": [
    {
     "data": {
      "text/html": [
       "<div>\n",
       "<style scoped>\n",
       "    .dataframe tbody tr th:only-of-type {\n",
       "        vertical-align: middle;\n",
       "    }\n",
       "\n",
       "    .dataframe tbody tr th {\n",
       "        vertical-align: top;\n",
       "    }\n",
       "\n",
       "    .dataframe thead th {\n",
       "        text-align: right;\n",
       "    }\n",
       "</style>\n",
       "<table border=\"1\" class=\"dataframe\">\n",
       "  <thead>\n",
       "    <tr style=\"text-align: right;\">\n",
       "      <th></th>\n",
       "      <th>title</th>\n",
       "      <th>eventStrength</th>\n",
       "      <th>person_id</th>\n",
       "    </tr>\n",
       "  </thead>\n",
       "  <tbody>\n",
       "    <tr>\n",
       "      <th>2299</th>\n",
       "      <td>Seria Stranger Things uma obra de arte do algo...</td>\n",
       "      <td>3.0</td>\n",
       "      <td>69</td>\n",
       "    </tr>\n",
       "    <tr>\n",
       "      <th>2298</th>\n",
       "      <td>New settings for 2-Step Verification</td>\n",
       "      <td>1.0</td>\n",
       "      <td>69</td>\n",
       "    </tr>\n",
       "  </tbody>\n",
       "</table>\n",
       "</div>"
      ],
      "text/plain": [
       "                                                  title  eventStrength  \\\n",
       "2299  Seria Stranger Things uma obra de arte do algo...            3.0   \n",
       "2298               New settings for 2-Step Verification            1.0   \n",
       "\n",
       "      person_id  \n",
       "2299         69  \n",
       "2298         69  "
      ]
     },
     "execution_count": 63,
     "metadata": {},
     "output_type": "execute_result"
    }
   ],
   "source": [
    "grouped_df.loc[grouped_df['person_id'] == 69].sort_values(by=['eventStrength'], ascending=False)[['title', 'eventStrength', 'person_id']]"
   ]
  },
  {
   "cell_type": "markdown",
   "id": "b8e95cfb",
   "metadata": {},
   "source": [
    "## Evaluating recommended system"
   ]
  },
  {
   "cell_type": "code",
   "execution_count": 64,
   "id": "eb24cdd7",
   "metadata": {},
   "outputs": [],
   "source": [
    "import random"
   ]
  },
  {
   "cell_type": "code",
   "execution_count": 66,
   "id": "d03f64ba",
   "metadata": {},
   "outputs": [],
   "source": [
    "def make_train(ratings, pct_test=0.2):\n",
    "    test_set = ratings.copy() # Make a copy os the origina set to be the test set\n",
    "    test_set[test_set != 0] = 1 # Store the test set as a binary preference matrix\n",
    "    \n",
    "    training_set = ratings.copy()\n",
    "    \n",
    "    nonzero_inds = training_set.nonzero() #finding the indices in the raatings dara with nonzero interactions\n",
    "    #Zip these pairs \n",
    "    nonzero_pairs = list(zip(nonzero_inds[0], nonzero_inds[1]))\n",
    "    \n",
    "    random.seed(0)\n",
    "    #round the number of samples needed\n",
    "    num_samples = int(np.ceil(pct_test * len(nonzero_pairs)))\n",
    "    #sample a random number item-user pairs without replacement\n",
    "    samples = random.sample(nonzero_pairs, num_samples)\n",
    "    \n",
    "    #Get the item row indices\n",
    "    content_inds = [index[0] for index in samples]\n",
    "    \n",
    "    #get the user column indices\n",
    "    person_inds = [index[1] for index in samples]\n",
    "    \n",
    "    #assign all of the randomly chosen user-item pairs to zero\n",
    "    training_set[content_inds, person_inds] = 0\n",
    "    #get rid of zeros in sparse array atorage after update to save space\n",
    "    training_set.eliminate_zeros()\n",
    "    \n",
    "    return training_set, test_set, list(set(person_inds))"
   ]
  },
  {
   "cell_type": "code",
   "execution_count": 67,
   "id": "e5685288",
   "metadata": {},
   "outputs": [],
   "source": [
    "content_train, content_test, сontent_persons_altered = make_train(sparse_content_person, pct_test =0.2)"
   ]
  },
  {
   "cell_type": "code",
   "execution_count": 68,
   "id": "87bf9928",
   "metadata": {},
   "outputs": [],
   "source": [
    "def auc_score(predictions, test):\n",
    "    fpr, tpr, thresholds = metrics.roc_curve(test, predictions)\n",
    "    return metrics.auc(fpr, tpr)"
   ]
  },
  {
   "cell_type": "code",
   "execution_count": 69,
   "id": "ecd0eff5",
   "metadata": {},
   "outputs": [],
   "source": [
    "def calc_mean_auc(training_set, altered_persons, predictions, test_set):\n",
    "    store_auc = []\n",
    "    popularity_auc = []\n",
    "    pop_contents = np.array(test_set.sum(axis = 1)).reshape(-1)\n",
    "    content_vecs = predictions[1]\n",
    "    for person in altered_persons:\n",
    "        training_column = training_set[:, person].toarray().reshape(-1)\n",
    "        zero_inds = np.where(training_column == 0)\n",
    "        \n",
    "        person_vec = predictions[0][person,:]\n",
    "        pred = person_vec.dot(content_vecs).toarray()[0, zero_inds].reshape(-1)\n",
    "        \n",
    "        actual = test_set[:, person].toarray()[zero_inds, 0].reshape(-1)\n",
    "        \n",
    "        pop = pop_contents[zero_inds]\n",
    "        \n",
    "        store_auc.append(auc_score(pred, actual))\n",
    "        \n",
    "        popularity_auc.append(auc_score(pop, actual))\n",
    "    \n",
    "    return float('%.3f'%np.mean(store_auc)), float('%.3f'%np.mean(popularity_auc))"
   ]
  },
  {
   "cell_type": "code",
   "execution_count": 70,
   "id": "9f753af6",
   "metadata": {},
   "outputs": [
    {
     "data": {
      "text/plain": [
       "(0.981, 0.819)"
      ]
     },
     "execution_count": 70,
     "metadata": {},
     "output_type": "execute_result"
    }
   ],
   "source": [
    "calc_mean_auc(content_train, сontent_persons_altered, [person_vecs, content_vecs.T], content_test)"
   ]
  },
  {
   "cell_type": "code",
   "execution_count": null,
   "id": "25850be6",
   "metadata": {},
   "outputs": [],
   "source": []
  },
  {
   "cell_type": "code",
   "execution_count": null,
   "id": "b3c3be65",
   "metadata": {},
   "outputs": [],
   "source": []
  }
 ],
 "metadata": {
  "kernelspec": {
   "display_name": "Python 3 (ipykernel)",
   "language": "python",
   "name": "python3"
  },
  "language_info": {
   "codemirror_mode": {
    "name": "ipython",
    "version": 3
   },
   "file_extension": ".py",
   "mimetype": "text/x-python",
   "name": "python",
   "nbconvert_exporter": "python",
   "pygments_lexer": "ipython3",
   "version": "3.9.18"
  }
 },
 "nbformat": 4,
 "nbformat_minor": 5
}
